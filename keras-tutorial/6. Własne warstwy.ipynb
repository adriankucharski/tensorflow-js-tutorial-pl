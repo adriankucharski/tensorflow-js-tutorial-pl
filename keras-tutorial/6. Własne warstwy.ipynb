{
    "cells": [
        {
            "cell_type": "markdown",
            "metadata": {},
            "source": [
                "## Własne warstwy w Kerasie"
            ]
        },
        {
            "cell_type": "markdown",
            "metadata": {},
            "source": [
                "Jenda z kluczowych funkcjonalności bibliotek do tworzenia modeli uczenia maszynowego. Keras również oferuje możliwość tworzenia własnych warstw.\n",
                "\n",
                "### UWAGA!\n",
                "W przypadku korzystania z własnych modeli w TensorFlow.js istotne jest, aby warstwy były pisane w sposób zgodny z API Kerasa. W warstwie należy definować metody `build`, `call` oraz `get_config`."
            ]
        },
        {
            "cell_type": "markdown",
            "metadata": {},
            "source": [
                "### Warstwa typu Residual"
            ]
        },
        {
            "cell_type": "code",
            "execution_count": null,
            "metadata": {},
            "outputs": [
                {
                    "data": {
                        "text/html": [
                            "<pre style=\"white-space:pre;overflow-x:auto;line-height:normal;font-family:Menlo,'DejaVu Sans Mono',consolas,'Courier New',monospace\"><span style=\"font-weight: bold\">Model: \"sequential_1\"</span>\n",
                            "</pre>\n"
                        ],
                        "text/plain": [
                            "\u001b[1mModel: \"sequential_1\"\u001b[0m\n"
                        ]
                    },
                    "metadata": {},
                    "output_type": "display_data"
                },
                {
                    "data": {
                        "text/html": [
                            "<pre style=\"white-space:pre;overflow-x:auto;line-height:normal;font-family:Menlo,'DejaVu Sans Mono',consolas,'Courier New',monospace\">┏━━━━━━━━━━━━━━━━━━━━━━━━━━━━━━━━━┳━━━━━━━━━━━━━━━━━━━━━━━━┳━━━━━━━━━━━━━━━┓\n",
                            "┃<span style=\"font-weight: bold\"> Layer (type)                    </span>┃<span style=\"font-weight: bold\"> Output Shape           </span>┃<span style=\"font-weight: bold\">       Param # </span>┃\n",
                            "┡━━━━━━━━━━━━━━━━━━━━━━━━━━━━━━━━━╇━━━━━━━━━━━━━━━━━━━━━━━━╇━━━━━━━━━━━━━━━┩\n",
                            "│ conv2d_4 (<span style=\"color: #0087ff; text-decoration-color: #0087ff\">Conv2D</span>)               │ (<span style=\"color: #00d7ff; text-decoration-color: #00d7ff\">None</span>, <span style=\"color: #00af00; text-decoration-color: #00af00\">28</span>, <span style=\"color: #00af00; text-decoration-color: #00af00\">28</span>, <span style=\"color: #00af00; text-decoration-color: #00af00\">32</span>)     │           <span style=\"color: #00af00; text-decoration-color: #00af00\">320</span> │\n",
                            "├─────────────────────────────────┼────────────────────────┼───────────────┤\n",
                            "│ rs_block (<span style=\"color: #0087ff; text-decoration-color: #0087ff\">ResidualBlock</span>)        │ (<span style=\"color: #00d7ff; text-decoration-color: #00d7ff\">None</span>, <span style=\"color: #00af00; text-decoration-color: #00af00\">28</span>, <span style=\"color: #00af00; text-decoration-color: #00af00\">28</span>, <span style=\"color: #00af00; text-decoration-color: #00af00\">32</span>)     │         <span style=\"color: #00af00; text-decoration-color: #00af00\">9,408</span> │\n",
                            "├─────────────────────────────────┼────────────────────────┼───────────────┤\n",
                            "│ residual_block_3                │ (<span style=\"color: #00d7ff; text-decoration-color: #00d7ff\">None</span>, <span style=\"color: #00af00; text-decoration-color: #00af00\">28</span>, <span style=\"color: #00af00; text-decoration-color: #00af00\">28</span>, <span style=\"color: #00af00; text-decoration-color: #00af00\">32</span>)     │         <span style=\"color: #00af00; text-decoration-color: #00af00\">9,408</span> │\n",
                            "│ (<span style=\"color: #0087ff; text-decoration-color: #0087ff\">ResidualBlock</span>)                 │                        │               │\n",
                            "├─────────────────────────────────┼────────────────────────┼───────────────┤\n",
                            "│ global_average_pooling2d_1      │ (<span style=\"color: #00d7ff; text-decoration-color: #00d7ff\">None</span>, <span style=\"color: #00af00; text-decoration-color: #00af00\">32</span>)             │             <span style=\"color: #00af00; text-decoration-color: #00af00\">0</span> │\n",
                            "│ (<span style=\"color: #0087ff; text-decoration-color: #0087ff\">GlobalAveragePooling2D</span>)        │                        │               │\n",
                            "├─────────────────────────────────┼────────────────────────┼───────────────┤\n",
                            "│ dense_1 (<span style=\"color: #0087ff; text-decoration-color: #0087ff\">Dense</span>)                 │ (<span style=\"color: #00d7ff; text-decoration-color: #00d7ff\">None</span>, <span style=\"color: #00af00; text-decoration-color: #00af00\">10</span>)             │           <span style=\"color: #00af00; text-decoration-color: #00af00\">330</span> │\n",
                            "└─────────────────────────────────┴────────────────────────┴───────────────┘\n",
                            "</pre>\n"
                        ],
                        "text/plain": [
                            "┏━━━━━━━━━━━━━━━━━━━━━━━━━━━━━━━━━┳━━━━━━━━━━━━━━━━━━━━━━━━┳━━━━━━━━━━━━━━━┓\n",
                            "┃\u001b[1m \u001b[0m\u001b[1mLayer (type)                   \u001b[0m\u001b[1m \u001b[0m┃\u001b[1m \u001b[0m\u001b[1mOutput Shape          \u001b[0m\u001b[1m \u001b[0m┃\u001b[1m \u001b[0m\u001b[1m      Param #\u001b[0m\u001b[1m \u001b[0m┃\n",
                            "┡━━━━━━━━━━━━━━━━━━━━━━━━━━━━━━━━━╇━━━━━━━━━━━━━━━━━━━━━━━━╇━━━━━━━━━━━━━━━┩\n",
                            "│ conv2d_4 (\u001b[38;5;33mConv2D\u001b[0m)               │ (\u001b[38;5;45mNone\u001b[0m, \u001b[38;5;34m28\u001b[0m, \u001b[38;5;34m28\u001b[0m, \u001b[38;5;34m32\u001b[0m)     │           \u001b[38;5;34m320\u001b[0m │\n",
                            "├─────────────────────────────────┼────────────────────────┼───────────────┤\n",
                            "│ rs_block (\u001b[38;5;33mResidualBlock\u001b[0m)        │ (\u001b[38;5;45mNone\u001b[0m, \u001b[38;5;34m28\u001b[0m, \u001b[38;5;34m28\u001b[0m, \u001b[38;5;34m32\u001b[0m)     │         \u001b[38;5;34m9,408\u001b[0m │\n",
                            "├─────────────────────────────────┼────────────────────────┼───────────────┤\n",
                            "│ residual_block_3                │ (\u001b[38;5;45mNone\u001b[0m, \u001b[38;5;34m28\u001b[0m, \u001b[38;5;34m28\u001b[0m, \u001b[38;5;34m32\u001b[0m)     │         \u001b[38;5;34m9,408\u001b[0m │\n",
                            "│ (\u001b[38;5;33mResidualBlock\u001b[0m)                 │                        │               │\n",
                            "├─────────────────────────────────┼────────────────────────┼───────────────┤\n",
                            "│ global_average_pooling2d_1      │ (\u001b[38;5;45mNone\u001b[0m, \u001b[38;5;34m32\u001b[0m)             │             \u001b[38;5;34m0\u001b[0m │\n",
                            "│ (\u001b[38;5;33mGlobalAveragePooling2D\u001b[0m)        │                        │               │\n",
                            "├─────────────────────────────────┼────────────────────────┼───────────────┤\n",
                            "│ dense_1 (\u001b[38;5;33mDense\u001b[0m)                 │ (\u001b[38;5;45mNone\u001b[0m, \u001b[38;5;34m10\u001b[0m)             │           \u001b[38;5;34m330\u001b[0m │\n",
                            "└─────────────────────────────────┴────────────────────────┴───────────────┘\n"
                        ]
                    },
                    "metadata": {},
                    "output_type": "display_data"
                },
                {
                    "data": {
                        "text/html": [
                            "<pre style=\"white-space:pre;overflow-x:auto;line-height:normal;font-family:Menlo,'DejaVu Sans Mono',consolas,'Courier New',monospace\"><span style=\"font-weight: bold\"> Total params: </span><span style=\"color: #00af00; text-decoration-color: #00af00\">19,466</span> (76.04 KB)\n",
                            "</pre>\n"
                        ],
                        "text/plain": [
                            "\u001b[1m Total params: \u001b[0m\u001b[38;5;34m19,466\u001b[0m (76.04 KB)\n"
                        ]
                    },
                    "metadata": {},
                    "output_type": "display_data"
                },
                {
                    "data": {
                        "text/html": [
                            "<pre style=\"white-space:pre;overflow-x:auto;line-height:normal;font-family:Menlo,'DejaVu Sans Mono',consolas,'Courier New',monospace\"><span style=\"font-weight: bold\"> Trainable params: </span><span style=\"color: #00af00; text-decoration-color: #00af00\">19,338</span> (75.54 KB)\n",
                            "</pre>\n"
                        ],
                        "text/plain": [
                            "\u001b[1m Trainable params: \u001b[0m\u001b[38;5;34m19,338\u001b[0m (75.54 KB)\n"
                        ]
                    },
                    "metadata": {},
                    "output_type": "display_data"
                },
                {
                    "data": {
                        "text/html": [
                            "<pre style=\"white-space:pre;overflow-x:auto;line-height:normal;font-family:Menlo,'DejaVu Sans Mono',consolas,'Courier New',monospace\"><span style=\"font-weight: bold\"> Non-trainable params: </span><span style=\"color: #00af00; text-decoration-color: #00af00\">128</span> (512.00 B)\n",
                            "</pre>\n"
                        ],
                        "text/plain": [
                            "\u001b[1m Non-trainable params: \u001b[0m\u001b[38;5;34m128\u001b[0m (512.00 B)\n"
                        ]
                    },
                    "metadata": {},
                    "output_type": "display_data"
                }
            ],
            "source": [
                "from keras import layers, models\n",
                "\n",
                "\n",
                "class ResidualBlock(layers.Layer):  # dziedziczymy po klasie Layer z modułu keras.layers\n",
                "    def __init__(self, filters: int, **kwargs):\n",
                "        # wywołujemy konstruktor klasy bazowej\n",
                "        # pozwala to na przekazanie dodatkowych argumentów do konstruktora klasy bazowej\n",
                "        # np. `name` lub `trainable`\n",
                "        super(ResidualBlock, self).__init__(**kwargs)\n",
                "\n",
                "        # Nie tworzymy warstw w __init__\n",
                "        # Warstwy tworzymy w metodzie `build`, która jest wywoływana automatycznie\n",
                "        self.filters = filters\n",
                "\n",
                "    def get_config(self):\n",
                "        # Aby porządnie zdefiniować tę metodę zalecam pobrać konfigurację z klasy bazowej\n",
                "        super_config = super(ResidualBlock, self).get_config()\n",
                "        # Dodajemy do niej nasze własne pola\n",
                "        super_config.update({\"filters\": self.filters})\n",
                "        return super_config\n",
                "\n",
                "    def build(self, input_shape):\n",
                "        # Warstwa build daje nam dostęp do rozmiaru wejścia w parametrze `input_shape`\n",
                "        # W Kerasie nie trzeba podawać rozmiaru wejścia! Keras sam sobie to obliczy\n",
                "\n",
                "        # blok splotu\n",
                "        self.conv = layers.Conv2D(self.filters, kernel_size=(3, 3), padding=\"same\")\n",
                "        self.bn = layers.BatchNormalization()\n",
                "        self.activation = layers.Activation(\"relu\")\n",
                "\n",
                "        # zamiast self.add możemy po prostu użyć operatora `+`\n",
                "        self.add = layers.Add()\n",
                "\n",
                "        # parametr skalujący do pomnożenia `inputs` przed dodaniem\n",
                "        self.scale = self.add_weight((1, 1, input_shape[-1]), initializer=\"ones\")\n",
                "\n",
                "    def call(self, inputs):\n",
                "        # Warstwy są wywoływane w metodzie `call`\n",
                "        # Tutaj definiujemy przepływ danych przez warstwę\n",
                "\n",
                "        x = self.conv(inputs)\n",
                "        x = self.bn(x)\n",
                "        x = self.activation(x)\n",
                "\n",
                "        # Dodajemy wejście do wyjścia\n",
                "        return self.add([inputs * self.scale, x])\n",
                "\n",
                "\n",
                "model = models.Sequential(\n",
                "    [\n",
                "        layers.Input((28, 28, 1)),\n",
                "        layers.Conv2D(32, kernel_size=(3, 3), padding=\"same\"),\n",
                "        ResidualBlock(32, name=\"rs_block\"),\n",
                "        ResidualBlock(32),\n",
                "        layers.GlobalAveragePooling2D(),\n",
                "        layers.Dense(10, activation=\"softmax\"),\n",
                "    ]\n",
                ")\n",
                "\n",
                "model.summary()\n"
            ]
        },
        {
            "cell_type": "markdown",
            "metadata": {},
            "source": [
                "### Warswa z kilkoma wejściami"
            ]
        },
        {
            "cell_type": "code",
            "execution_count": 7,
            "metadata": {},
            "outputs": [
                {
                    "data": {
                        "text/html": [
                            "<pre style=\"white-space:pre;overflow-x:auto;line-height:normal;font-family:Menlo,'DejaVu Sans Mono',consolas,'Courier New',monospace\"><span style=\"font-weight: bold\">Model: \"functional_13\"</span>\n",
                            "</pre>\n"
                        ],
                        "text/plain": [
                            "\u001b[1mModel: \"functional_13\"\u001b[0m\n"
                        ]
                    },
                    "metadata": {},
                    "output_type": "display_data"
                },
                {
                    "data": {
                        "text/html": [
                            "<pre style=\"white-space:pre;overflow-x:auto;line-height:normal;font-family:Menlo,'DejaVu Sans Mono',consolas,'Courier New',monospace\">┏━━━━━━━━━━━━━━━━━━━━━┳━━━━━━━━━━━━━━━━━━━┳━━━━━━━━━━━━┳━━━━━━━━━━━━━━━━━━━┓\n",
                            "┃<span style=\"font-weight: bold\"> Layer (type)        </span>┃<span style=\"font-weight: bold\"> Output Shape      </span>┃<span style=\"font-weight: bold\">    Param # </span>┃<span style=\"font-weight: bold\"> Connected to      </span>┃\n",
                            "┡━━━━━━━━━━━━━━━━━━━━━╇━━━━━━━━━━━━━━━━━━━╇━━━━━━━━━━━━╇━━━━━━━━━━━━━━━━━━━┩\n",
                            "│ input_layer_14      │ (<span style=\"color: #00d7ff; text-decoration-color: #00d7ff\">None</span>, <span style=\"color: #00af00; text-decoration-color: #00af00\">28</span>, <span style=\"color: #00af00; text-decoration-color: #00af00\">28</span>, <span style=\"color: #00af00; text-decoration-color: #00af00\">1</span>) │          <span style=\"color: #00af00; text-decoration-color: #00af00\">0</span> │ -                 │\n",
                            "│ (<span style=\"color: #0087ff; text-decoration-color: #0087ff\">InputLayer</span>)        │                   │            │                   │\n",
                            "├─────────────────────┼───────────────────┼────────────┼───────────────────┤\n",
                            "│ input_layer_15      │ (<span style=\"color: #00d7ff; text-decoration-color: #00d7ff\">None</span>, <span style=\"color: #00af00; text-decoration-color: #00af00\">10</span>)        │          <span style=\"color: #00af00; text-decoration-color: #00af00\">0</span> │ -                 │\n",
                            "│ (<span style=\"color: #0087ff; text-decoration-color: #0087ff\">InputLayer</span>)        │                   │            │                   │\n",
                            "├─────────────────────┼───────────────────┼────────────┼───────────────────┤\n",
                            "│ multi_input_layer_3 │ (<span style=\"color: #00d7ff; text-decoration-color: #00d7ff\">None</span>, <span style=\"color: #00af00; text-decoration-color: #00af00\">28</span>, <span style=\"color: #00af00; text-decoration-color: #00af00\">28</span>,    │        <span style=\"color: #00af00; text-decoration-color: #00af00\">800</span> │ input_layer_14[<span style=\"color: #00af00; text-decoration-color: #00af00\">0</span>… │\n",
                            "│ (<span style=\"color: #0087ff; text-decoration-color: #0087ff\">MultiInputLayer</span>)   │ <span style=\"color: #00af00; text-decoration-color: #00af00\">32</span>)               │            │ input_layer_15[<span style=\"color: #00af00; text-decoration-color: #00af00\">0</span>… │\n",
                            "├─────────────────────┼───────────────────┼────────────┼───────────────────┤\n",
                            "│ conv2d_11 (<span style=\"color: #0087ff; text-decoration-color: #0087ff\">Conv2D</span>)  │ (<span style=\"color: #00d7ff; text-decoration-color: #00d7ff\">None</span>, <span style=\"color: #00af00; text-decoration-color: #00af00\">28</span>, <span style=\"color: #00af00; text-decoration-color: #00af00\">28</span>, <span style=\"color: #00af00; text-decoration-color: #00af00\">3</span>) │        <span style=\"color: #00af00; text-decoration-color: #00af00\">867</span> │ multi_input_laye… │\n",
                            "└─────────────────────┴───────────────────┴────────────┴───────────────────┘\n",
                            "</pre>\n"
                        ],
                        "text/plain": [
                            "┏━━━━━━━━━━━━━━━━━━━━━┳━━━━━━━━━━━━━━━━━━━┳━━━━━━━━━━━━┳━━━━━━━━━━━━━━━━━━━┓\n",
                            "┃\u001b[1m \u001b[0m\u001b[1mLayer (type)       \u001b[0m\u001b[1m \u001b[0m┃\u001b[1m \u001b[0m\u001b[1mOutput Shape     \u001b[0m\u001b[1m \u001b[0m┃\u001b[1m \u001b[0m\u001b[1m   Param #\u001b[0m\u001b[1m \u001b[0m┃\u001b[1m \u001b[0m\u001b[1mConnected to     \u001b[0m\u001b[1m \u001b[0m┃\n",
                            "┡━━━━━━━━━━━━━━━━━━━━━╇━━━━━━━━━━━━━━━━━━━╇━━━━━━━━━━━━╇━━━━━━━━━━━━━━━━━━━┩\n",
                            "│ input_layer_14      │ (\u001b[38;5;45mNone\u001b[0m, \u001b[38;5;34m28\u001b[0m, \u001b[38;5;34m28\u001b[0m, \u001b[38;5;34m1\u001b[0m) │          \u001b[38;5;34m0\u001b[0m │ -                 │\n",
                            "│ (\u001b[38;5;33mInputLayer\u001b[0m)        │                   │            │                   │\n",
                            "├─────────────────────┼───────────────────┼────────────┼───────────────────┤\n",
                            "│ input_layer_15      │ (\u001b[38;5;45mNone\u001b[0m, \u001b[38;5;34m10\u001b[0m)        │          \u001b[38;5;34m0\u001b[0m │ -                 │\n",
                            "│ (\u001b[38;5;33mInputLayer\u001b[0m)        │                   │            │                   │\n",
                            "├─────────────────────┼───────────────────┼────────────┼───────────────────┤\n",
                            "│ multi_input_layer_3 │ (\u001b[38;5;45mNone\u001b[0m, \u001b[38;5;34m28\u001b[0m, \u001b[38;5;34m28\u001b[0m,    │        \u001b[38;5;34m800\u001b[0m │ input_layer_14[\u001b[38;5;34m0\u001b[0m… │\n",
                            "│ (\u001b[38;5;33mMultiInputLayer\u001b[0m)   │ \u001b[38;5;34m32\u001b[0m)               │            │ input_layer_15[\u001b[38;5;34m0\u001b[0m… │\n",
                            "├─────────────────────┼───────────────────┼────────────┼───────────────────┤\n",
                            "│ conv2d_11 (\u001b[38;5;33mConv2D\u001b[0m)  │ (\u001b[38;5;45mNone\u001b[0m, \u001b[38;5;34m28\u001b[0m, \u001b[38;5;34m28\u001b[0m, \u001b[38;5;34m3\u001b[0m) │        \u001b[38;5;34m867\u001b[0m │ multi_input_laye… │\n",
                            "└─────────────────────┴───────────────────┴────────────┴───────────────────┘\n"
                        ]
                    },
                    "metadata": {},
                    "output_type": "display_data"
                },
                {
                    "data": {
                        "text/html": [
                            "<pre style=\"white-space:pre;overflow-x:auto;line-height:normal;font-family:Menlo,'DejaVu Sans Mono',consolas,'Courier New',monospace\"><span style=\"font-weight: bold\"> Total params: </span><span style=\"color: #00af00; text-decoration-color: #00af00\">1,667</span> (6.51 KB)\n",
                            "</pre>\n"
                        ],
                        "text/plain": [
                            "\u001b[1m Total params: \u001b[0m\u001b[38;5;34m1,667\u001b[0m (6.51 KB)\n"
                        ]
                    },
                    "metadata": {},
                    "output_type": "display_data"
                },
                {
                    "data": {
                        "text/html": [
                            "<pre style=\"white-space:pre;overflow-x:auto;line-height:normal;font-family:Menlo,'DejaVu Sans Mono',consolas,'Courier New',monospace\"><span style=\"font-weight: bold\"> Trainable params: </span><span style=\"color: #00af00; text-decoration-color: #00af00\">1,603</span> (6.26 KB)\n",
                            "</pre>\n"
                        ],
                        "text/plain": [
                            "\u001b[1m Trainable params: \u001b[0m\u001b[38;5;34m1,603\u001b[0m (6.26 KB)\n"
                        ]
                    },
                    "metadata": {},
                    "output_type": "display_data"
                },
                {
                    "data": {
                        "text/html": [
                            "<pre style=\"white-space:pre;overflow-x:auto;line-height:normal;font-family:Menlo,'DejaVu Sans Mono',consolas,'Courier New',monospace\"><span style=\"font-weight: bold\"> Non-trainable params: </span><span style=\"color: #00af00; text-decoration-color: #00af00\">64</span> (256.00 B)\n",
                            "</pre>\n"
                        ],
                        "text/plain": [
                            "\u001b[1m Non-trainable params: \u001b[0m\u001b[38;5;34m64\u001b[0m (256.00 B)\n"
                        ]
                    },
                    "metadata": {},
                    "output_type": "display_data"
                },
                {
                    "data": {
                        "text/plain": [
                            "TensorShape([32, 28, 28, 3])"
                        ]
                    },
                    "execution_count": 7,
                    "metadata": {},
                    "output_type": "execute_result"
                }
            ],
            "source": [
                "from keras import layers, models, ops\n",
                "\n",
                "\n",
                "class MultiInputLayer(layers.Layer):\n",
                "    def __init__(self, filters: int, **kwargs):\n",
                "        super(MultiInputLayer, self).__init__(**kwargs)\n",
                "\n",
                "        # Nie tworzymy warstw w __init__\n",
                "        # Warstwy tworzymy w metodzie `build`, która jest wywoływana automatycznie\n",
                "        self.filters = filters\n",
                "\n",
                "    def get_config(self):\n",
                "        super_config = super(ResidualBlock, self).get_config()\n",
                "        super_config.update({\"filters\": self.filters})\n",
                "        return super_config\n",
                "\n",
                "    def build(self, input_shape):\n",
                "        # (B, H, W, C), (B, N)\n",
                "        input_shape_a, input_shape_b = input_shape\n",
                "\n",
                "        self.block = models.Sequential(\n",
                "            [\n",
                "                layers.Conv2D(self.filters, kernel_size=(3, 3), padding=\"same\"),\n",
                "                layers.BatchNormalization(),\n",
                "                layers.Activation(\"relu\"),\n",
                "            ]\n",
                "        )\n",
                "\n",
                "        self.linear = models.Sequential(\n",
                "            [\n",
                "                layers.Dense(self.filters, activation=\"relu\"),\n",
                "                layers.Reshape((1, 1, self.filters)),\n",
                "            ]\n",
                "        )\n",
                "\n",
                "    def call(self, inputs):\n",
                "        inputs_a, inputs_b = inputs\n",
                "\n",
                "        x = self.block(inputs_a)\n",
                "        y = self.linear(inputs_b)\n",
                "\n",
                "        return x + y\n",
                "\n",
                "\n",
                "inputs = layers.Input((28, 28, 1))\n",
                "aux_inputs = layers.Input((10,))\n",
                "\n",
                "x = MultiInputLayer(32)([inputs, aux_inputs])\n",
                "outputs = layers.Conv2D(3, 3, padding=\"same\")(x)\n",
                "\n",
                "model = models.Model([inputs, aux_inputs], outputs)\n",
                "\n",
                "model.summary()\n",
                "\n",
                "images = ops.ones((32, 28, 28, 1))\n",
                "aux = ops.ones((32, 10))\n",
                "\n",
                "model([images, aux]).shape\n"
            ]
        }
    ],
    "metadata": {
        "kernelspec": {
            "display_name": "tfjs-tutorial",
            "language": "python",
            "name": "python3"
        },
        "language_info": {
            "codemirror_mode": {
                "name": "ipython",
                "version": 3
            },
            "file_extension": ".py",
            "mimetype": "text/x-python",
            "name": "python",
            "nbconvert_exporter": "python",
            "pygments_lexer": "ipython3",
            "version": "3.10.15"
        }
    },
    "nbformat": 4,
    "nbformat_minor": 2
}